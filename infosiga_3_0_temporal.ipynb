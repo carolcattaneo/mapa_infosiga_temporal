{
  "nbformat": 4,
  "nbformat_minor": 0,
  "metadata": {
    "colab": {
      "provenance": []
    },
    "kernelspec": {
      "name": "python3",
      "display_name": "Python 3"
    },
    "language_info": {
      "name": "python"
    },
    "widgets": {
      "application/vnd.jupyter.widget-state+json": {
        "22378bade98849559b89cd744833be4b": {
          "model_module": "@jupyter-widgets/controls",
          "model_name": "DropdownModel",
          "model_module_version": "1.5.0",
          "state": {
            "_dom_classes": [],
            "_model_module": "@jupyter-widgets/controls",
            "_model_module_version": "1.5.0",
            "_model_name": "DropdownModel",
            "_options_labels": [
              "2022-01",
              "2022-02",
              "2022-03",
              "2022-04",
              "2022-05",
              "2022-06",
              "2022-07",
              "2022-08",
              "2022-09",
              "2022-10",
              "2022-11",
              "2022-12",
              "2023-01",
              "2023-02",
              "2023-03",
              "2023-04",
              "2023-05",
              "2023-06",
              "2023-07",
              "2023-08",
              "2023-09",
              "2023-10",
              "2023-11",
              "2023-12",
              "2024-01",
              "2024-02",
              "2024-03",
              "2024-04",
              "2024-05",
              "2024-06",
              "2024-07",
              "2024-08",
              "2024-09",
              "2024-10",
              "2024-11",
              "2024-12",
              "2025-01",
              "2025-02",
              "2025-03"
            ],
            "_view_count": null,
            "_view_module": "@jupyter-widgets/controls",
            "_view_module_version": "1.5.0",
            "_view_name": "DropdownView",
            "description": "Mês:",
            "description_tooltip": null,
            "disabled": false,
            "index": 18,
            "layout": "IPY_MODEL_ae24fa2dbf834fc4b30841acfc5fb323",
            "style": "IPY_MODEL_4e3a001057f549deba7689af0da85117"
          }
        },
        "ae24fa2dbf834fc4b30841acfc5fb323": {
          "model_module": "@jupyter-widgets/base",
          "model_name": "LayoutModel",
          "model_module_version": "1.2.0",
          "state": {
            "_model_module": "@jupyter-widgets/base",
            "_model_module_version": "1.2.0",
            "_model_name": "LayoutModel",
            "_view_count": null,
            "_view_module": "@jupyter-widgets/base",
            "_view_module_version": "1.2.0",
            "_view_name": "LayoutView",
            "align_content": null,
            "align_items": null,
            "align_self": null,
            "border": null,
            "bottom": null,
            "display": null,
            "flex": null,
            "flex_flow": null,
            "grid_area": null,
            "grid_auto_columns": null,
            "grid_auto_flow": null,
            "grid_auto_rows": null,
            "grid_column": null,
            "grid_gap": null,
            "grid_row": null,
            "grid_template_areas": null,
            "grid_template_columns": null,
            "grid_template_rows": null,
            "height": null,
            "justify_content": null,
            "justify_items": null,
            "left": null,
            "margin": null,
            "max_height": null,
            "max_width": null,
            "min_height": null,
            "min_width": null,
            "object_fit": null,
            "object_position": null,
            "order": null,
            "overflow": null,
            "overflow_x": null,
            "overflow_y": null,
            "padding": null,
            "right": null,
            "top": null,
            "visibility": null,
            "width": "50%"
          }
        },
        "4e3a001057f549deba7689af0da85117": {
          "model_module": "@jupyter-widgets/controls",
          "model_name": "DescriptionStyleModel",
          "model_module_version": "1.5.0",
          "state": {
            "_model_module": "@jupyter-widgets/controls",
            "_model_module_version": "1.5.0",
            "_model_name": "DescriptionStyleModel",
            "_view_count": null,
            "_view_module": "@jupyter-widgets/base",
            "_view_module_version": "1.2.0",
            "_view_name": "StyleView",
            "description_width": ""
          }
        }
      }
    }
  },
  "cells": [
    {
      "cell_type": "markdown",
      "source": [
        "##✅ Passo a passo – Mapa com controle temporal (Folium + GeoPandas)"
      ],
      "metadata": {
        "id": "BGKXTlqdV2sq"
      }
    },
    {
      "cell_type": "markdown",
      "source": [
        "###1. Monte o ambiente no Google Colab\n"
      ],
      "metadata": {
        "id": "TEt7H8CPV575"
      }
    },
    {
      "cell_type": "code",
      "execution_count": 38,
      "metadata": {
        "id": "TfQtsjhxPIYP",
        "colab": {
          "base_uri": "https://localhost:8080/"
        },
        "outputId": "12cedbd1-0acb-4cfa-d413-5f673dcb3931"
      },
      "outputs": [
        {
          "output_type": "stream",
          "name": "stdout",
          "text": [
            "Requirement already satisfied: geopandas in /usr/local/lib/python3.11/dist-packages (1.0.1)\n",
            "Requirement already satisfied: folium in /usr/local/lib/python3.11/dist-packages (0.19.5)\n",
            "Requirement already satisfied: numpy>=1.22 in /usr/local/lib/python3.11/dist-packages (from geopandas) (2.0.2)\n",
            "Requirement already satisfied: pyogrio>=0.7.2 in /usr/local/lib/python3.11/dist-packages (from geopandas) (0.10.0)\n",
            "Requirement already satisfied: packaging in /usr/local/lib/python3.11/dist-packages (from geopandas) (24.2)\n",
            "Requirement already satisfied: pandas>=1.4.0 in /usr/local/lib/python3.11/dist-packages (from geopandas) (2.2.2)\n",
            "Requirement already satisfied: pyproj>=3.3.0 in /usr/local/lib/python3.11/dist-packages (from geopandas) (3.7.1)\n",
            "Requirement already satisfied: shapely>=2.0.0 in /usr/local/lib/python3.11/dist-packages (from geopandas) (2.1.0)\n",
            "Requirement already satisfied: branca>=0.6.0 in /usr/local/lib/python3.11/dist-packages (from folium) (0.8.1)\n",
            "Requirement already satisfied: jinja2>=2.9 in /usr/local/lib/python3.11/dist-packages (from folium) (3.1.6)\n",
            "Requirement already satisfied: requests in /usr/local/lib/python3.11/dist-packages (from folium) (2.32.3)\n",
            "Requirement already satisfied: xyzservices in /usr/local/lib/python3.11/dist-packages (from folium) (2025.4.0)\n",
            "Requirement already satisfied: MarkupSafe>=2.0 in /usr/local/lib/python3.11/dist-packages (from jinja2>=2.9->folium) (3.0.2)\n",
            "Requirement already satisfied: python-dateutil>=2.8.2 in /usr/local/lib/python3.11/dist-packages (from pandas>=1.4.0->geopandas) (2.9.0.post0)\n",
            "Requirement already satisfied: pytz>=2020.1 in /usr/local/lib/python3.11/dist-packages (from pandas>=1.4.0->geopandas) (2025.2)\n",
            "Requirement already satisfied: tzdata>=2022.7 in /usr/local/lib/python3.11/dist-packages (from pandas>=1.4.0->geopandas) (2025.2)\n",
            "Requirement already satisfied: certifi in /usr/local/lib/python3.11/dist-packages (from pyogrio>=0.7.2->geopandas) (2025.4.26)\n",
            "Requirement already satisfied: charset-normalizer<4,>=2 in /usr/local/lib/python3.11/dist-packages (from requests->folium) (3.4.1)\n",
            "Requirement already satisfied: idna<4,>=2.5 in /usr/local/lib/python3.11/dist-packages (from requests->folium) (3.10)\n",
            "Requirement already satisfied: urllib3<3,>=1.21.1 in /usr/local/lib/python3.11/dist-packages (from requests->folium) (2.4.0)\n",
            "Requirement already satisfied: six>=1.5 in /usr/local/lib/python3.11/dist-packages (from python-dateutil>=2.8.2->pandas>=1.4.0->geopandas) (1.17.0)\n"
          ]
        }
      ],
      "source": [
        "# Instale se necessário\n",
        "!pip install geopandas folium"
      ]
    },
    {
      "cell_type": "markdown",
      "source": [
        "###2. Monte o Google Drive e leia o arquivo .gpkg"
      ],
      "metadata": {
        "id": "DtxRe47-WAGp"
      }
    },
    {
      "cell_type": "code",
      "source": [
        "from google.colab import drive\n",
        "import geopandas as gpd\n",
        "import pandas as pd\n",
        "\n",
        "drive.mount('/content/drive')"
      ],
      "metadata": {
        "colab": {
          "base_uri": "https://localhost:8080/"
        },
        "id": "rps4oC9lWCCR",
        "outputId": "2efba2e0-22b0-4a07-d524-fe3f80ad9815"
      },
      "execution_count": 39,
      "outputs": [
        {
          "output_type": "stream",
          "name": "stdout",
          "text": [
            "Drive already mounted at /content/drive; to attempt to forcibly remount, call drive.mount(\"/content/drive\", force_remount=True).\n"
          ]
        }
      ]
    },
    {
      "cell_type": "code",
      "source": [
        "# Caminho para o arquivo\n",
        "caminho = '/content/drive/MyDrive/análise entorno sinistro/pontos_sinistro_atrop_MunCampinas_22-25_wgs84.gpkg'\n",
        "\n",
        "# Lê o arquivo (assumindo que a camada se chama 'pontos_sinistro_atrop_22-25_wgs84')\n",
        "gdf = gpd.read_file(caminho)"
      ],
      "metadata": {
        "id": "xzbgGs_yWEox"
      },
      "execution_count": 40,
      "outputs": []
    },
    {
      "cell_type": "markdown",
      "source": [
        "###3. Converta a coluna data_sinis para formato de data"
      ],
      "metadata": {
        "id": "Q8rcsLWeWl3S"
      }
    },
    {
      "cell_type": "code",
      "source": [
        "# Se houver espaço, padronize os nomes\n",
        "gdf.columns = gdf.columns.str.strip().str.lower()\n",
        "\n",
        "# Converte a coluna para datetime\n",
        "gdf['data_sinis'] = pd.to_datetime(gdf['data_sinis'], errors='coerce', dayfirst=True)"
      ],
      "metadata": {
        "id": "hAp6lWXIWnsP"
      },
      "execution_count": 41,
      "outputs": []
    },
    {
      "cell_type": "markdown",
      "source": [
        "###4. Crie o GeoJSON com a estrutura exigida pelo TimestampedGeoJson"
      ],
      "metadata": {
        "id": "IR07yCT7Wuv3"
      }
    },
    {
      "cell_type": "code",
      "source": [
        "features = []\n",
        "for _, row in gdf.iterrows():\n",
        "    if pd.notnull(row['data_sinis']):\n",
        "        features.append({\n",
        "            'type': 'Feature',\n",
        "            'geometry': row['geometry'].__geo_interface__,\n",
        "            'properties': {\n",
        "                'time': row['data_sinis'].isoformat(),\n",
        "                'popup': f\"Data: {row['data_sinis'].date()}<br>Tipo: {row['tipo_acide']}\"\n",
        "            }\n",
        "        })\n",
        "\n",
        "geojson = {\n",
        "    'type': 'FeatureCollection',\n",
        "    'features': features\n",
        "}\n"
      ],
      "metadata": {
        "id": "Bc51hi9UWx0P"
      },
      "execution_count": 42,
      "outputs": []
    },
    {
      "cell_type": "markdown",
      "source": [
        "##5. Construa o mapa interativo"
      ],
      "metadata": {
        "id": "hdknOHk6XXYG"
      }
    },
    {
      "cell_type": "markdown",
      "source": [
        "####Versão diária acumulativa"
      ],
      "metadata": {
        "id": "qkJljVVX1Fgm"
      }
    },
    {
      "cell_type": "code",
      "source": [
        "import folium\n",
        "from folium.plugins import TimestampedGeoJson\n",
        "\n",
        "# Centraliza no estado de SP (ajuste se quiser)\n",
        "m = folium.Map(location=[-23.55, -46.63], zoom_start=10)\n",
        "\n",
        "TimestampedGeoJson(\n",
        "    geojson,\n",
        "    transition_time=200,\n",
        "    period='P1D',  # passo de 1 dia\n",
        "    add_last_point=True,\n",
        "    auto_play=False,\n",
        "    loop=False,\n",
        "    max_speed=1,\n",
        "    loop_button=True,\n",
        "    date_options='YYYY-MM-DD',\n",
        "    time_slider_drag_update=True\n",
        ").add_to(m)\n",
        "\n",
        "m.save('mapa_temporal_diario_acumulado.html')\n"
      ],
      "metadata": {
        "id": "lLweiIpeXZbn"
      },
      "execution_count": null,
      "outputs": []
    },
    {
      "cell_type": "markdown",
      "source": [
        "####Versão mensal não acumulativa"
      ],
      "metadata": {
        "id": "X_L9g8mE1RYG"
      }
    },
    {
      "cell_type": "code",
      "source": [
        "import folium\n",
        "from folium.plugins import TimestampedGeoJson\n",
        "\n",
        "# Centraliza no centroide dos dados\n",
        "centro = gdf.geometry.unary_union.centroid\n",
        "m = folium.Map(location=[centro.y, centro.x], zoom_start=12)\n",
        "\n",
        "# Gera as features com estilo e pop-up detalhado\n",
        "features = []\n",
        "for _, row in gdf.iterrows():\n",
        "    popup = f\"\"\"\n",
        "    <b>Data:</b> {row['data_sinis'].date()}<br>\n",
        "    <b>Tipo de Acidente:</b> {row.get('tipo_acide', '')}<br>\n",
        "    <b>Gravidade:</b> {row.get('gravidade_', '')}<br>\n",
        "    <b>Município:</b> {row.get('municipio', '')}<br>\n",
        "    <b>Veículos:</b> {', '.join([str(row.get(f'tp_veicu_{i}', '')) for i in range(1, 7) if row.get(f'tp_veicu_{i}')])}\n",
        "    \"\"\"\n",
        "\n",
        "    feature = {\n",
        "        'type': 'Feature',\n",
        "        'geometry': row['geometry'].__geo_interface__,\n",
        "        'properties': {\n",
        "            'time': row['data_sinis'].isoformat(),\n",
        "            'popup': popup,\n",
        "            'style': {\n",
        "                'color': 'black',\n",
        "                'fillColor': 'red',\n",
        "                'weight': 0.3,\n",
        "                'radius': 3,\n",
        "                'fillOpacity': 0.7\n",
        "            }\n",
        "        }\n",
        "    }\n",
        "    features.append(feature)\n",
        "\n",
        "geojson = {\n",
        "    'type': 'FeatureCollection',\n",
        "    'features': features\n",
        "}\n",
        "\n",
        "# Adiciona camada com tempo: mostra apenas os pontos do dia\n",
        "TimestampedGeoJson(\n",
        "    geojson,\n",
        "    period='P1M',                # passo de 1 mês\n",
        "    duration='P1M',              # mostra apenas 1 mês por vez\n",
        "    auto_play=False,\n",
        "    loop=False,\n",
        "    loop_button=True,\n",
        "    time_slider_drag_update=True,\n",
        "    date_options='YYYY-MM'\n",
        ").add_to(m)\n",
        "\n",
        "# Salva o mapa como HTML\n",
        "m.save('mapa_temporal_mensal.html')\n"
      ],
      "metadata": {
        "colab": {
          "base_uri": "https://localhost:8080/"
        },
        "id": "t4EhKQqnblZl",
        "outputId": "4b1077ef-8c42-477d-b568-6816f526759f"
      },
      "execution_count": null,
      "outputs": [
        {
          "output_type": "stream",
          "name": "stderr",
          "text": [
            "<ipython-input-8-6f4e54506e43>:5: DeprecationWarning: The 'unary_union' attribute is deprecated, use the 'union_all()' method instead.\n",
            "  centro = gdf.geometry.unary_union.centroid\n"
          ]
        }
      ]
    },
    {
      "cell_type": "markdown",
      "source": [
        "####Versão mensal não acumulativa de calor"
      ],
      "metadata": {
        "id": "ANnq9lY-1XWm"
      }
    },
    {
      "cell_type": "code",
      "source": [
        "from folium.plugins import HeatMapWithTime\n",
        "import folium\n",
        "\n",
        "# Garante que a data está no formato correto\n",
        "gdf = gdf.dropna(subset=['data_sinis', 'geometry'])\n",
        "gdf['ano_mes'] = gdf['data_sinis'].dt.to_period('M')\n",
        "\n",
        "# Ordena os períodos únicos\n",
        "periodos = sorted(gdf['ano_mes'].unique())\n",
        "\n",
        "# Agrupa as coordenadas por mês\n",
        "heat_data = []\n",
        "for periodo in periodos:\n",
        "    grupo = gdf[gdf['ano_mes'] == periodo]\n",
        "    coords = [[row.geometry.y, row.geometry.x] for row in grupo.itertuples() if row.geometry is not None]\n",
        "    heat_data.append(coords)\n",
        "\n",
        "#Define gradiente manual aproximado de viridis\n",
        "#viridis_gradient = {\n",
        "#    0.0: \"#fde725\",   # amarelo claro (baixa densidade)\n",
        "#    0.7: \"#5ec962\",   # verde\n",
        "#    0.9: \"#3b528b\",   # azul escuro\n",
        "#    1.0: \"#440154\"    # roxo escuro (alta densidade)\n",
        "#}\n",
        "\n",
        "# Cria o mapa centralizado no centroide\n",
        "centro = gdf.geometry.unary_union.centroid\n",
        "m = folium.Map(location=[centro.y, centro.x], zoom_start=12)\n",
        "\n",
        "# Adiciona o mapa de calor com tempo\n",
        "HeatMapWithTime(\n",
        "    data=heat_data,\n",
        "    index=[str(p) for p in periodos],  # exemplo: '2022-01'\n",
        "    auto_play=False,\n",
        "    max_opacity=0.65,\n",
        "    radius=20,\n",
        "    use_local_extrema=True,\n",
        "#    gradient=viridis_gradient\n",
        "\n",
        ").add_to(m)\n",
        "\n",
        "# Salva o resultado\n",
        "m.save('heatmap_temporal_mensal11.html')\n"
      ],
      "metadata": {
        "colab": {
          "base_uri": "https://localhost:8080/"
        },
        "id": "o1c0h1CJ0XJu",
        "outputId": "b27fd9e3-62fb-45ed-b9dc-e69ada548e21"
      },
      "execution_count": 47,
      "outputs": [
        {
          "output_type": "stream",
          "name": "stderr",
          "text": [
            "<ipython-input-47-dafc54b7a530>:27: DeprecationWarning: The 'unary_union' attribute is deprecated, use the 'union_all()' method instead.\n",
            "  centro = gdf.geometry.unary_union.centroid\n"
          ]
        }
      ]
    },
    {
      "cell_type": "markdown",
      "source": [
        "**Observação:** Foi testada a aplicação de um gradiente de cores inspirado na paleta viridis utilizando o parâmetro gradient do plugin HeatMapWithTime do Folium. Embora o código para essa personalização tenha sido mantido com # (comentado) para referência futura, o resultado visual não ficou satisfatório. O gradiente não se comporta como esperado e a limitação do próprio plugin impede uma representação fiel das cores, tornando essa abordagem inviável para o tipo de mapa desejado."
      ],
      "metadata": {
        "id": "Mm7xjW96eOP8"
      }
    },
    {
      "cell_type": "markdown",
      "source": [
        "####Versão Mapa de Calor com Seletor de Mês (manual)"
      ],
      "metadata": {
        "id": "d6G7OIVb2eSQ"
      }
    },
    {
      "cell_type": "code",
      "source": [
        "import ipywidgets as widgets\n",
        "from IPython.display import display, clear_output\n",
        "import folium\n",
        "from folium.plugins import HeatMap\n",
        "\n",
        "# Agrupa os dados por ano e mês (caso ainda não tenha feito)\n",
        "gdf['ano_mes'] = gdf['data_sinis'].dt.to_period('M')\n",
        "meses_disponiveis = sorted(gdf['ano_mes'].unique().astype(str))\n",
        "\n",
        "# Cria dropdown\n",
        "dropdown = widgets.Dropdown(\n",
        "    options=meses_disponiveis,\n",
        "    description='Mês:',\n",
        "    layout={'width': '50%'}\n",
        ")\n",
        "\n",
        "# Função para gerar e salvar o mapa\n",
        "def atualizar_mapa(mes_str):\n",
        "    clear_output(wait=True)\n",
        "    display(dropdown)\n",
        "\n",
        "    grupo = gdf[gdf['ano_mes'].astype(str) == mes_str]\n",
        "    coords = [[row.geometry.y, row.geometry.x] for row in grupo.itertuples() if row.geometry is not None]\n",
        "\n",
        "    centro = gdf.geometry.unary_union.centroid\n",
        "    mapa = folium.Map(location=[centro.y, centro.x], zoom_start=12)\n",
        "\n",
        "    HeatMap(\n",
        "        coords,\n",
        "        radius=15,\n",
        "        max_opacity=0.8,\n",
        "        use_local_extrema=True\n",
        "    ).add_to(mapa)\n",
        "\n",
        "    # Salva o mapa\n",
        "    nome_arquivo = f'/content/drive/MyDrive/heatmap_{mes_str}.html'\n",
        "    mapa.save(nome_arquivo)\n",
        "    print(f\"Mapa salvo em: {nome_arquivo}\")\n",
        "\n",
        "# Conecta o dropdown ao evento de mudança\n",
        "def on_change(change):\n",
        "    if change['type'] == 'change' and change['name'] == 'value':\n",
        "        atualizar_mapa(change['new'])\n",
        "\n",
        "dropdown.observe(on_change)\n",
        "display(dropdown)\n"
      ],
      "metadata": {
        "colab": {
          "base_uri": "https://localhost:8080/",
          "height": 121,
          "referenced_widgets": [
            "22378bade98849559b89cd744833be4b",
            "ae24fa2dbf834fc4b30841acfc5fb323",
            "4e3a001057f549deba7689af0da85117"
          ]
        },
        "id": "Pp8RbRDr2g_m",
        "outputId": "4e67dfdd-be0e-4a67-bc5b-95a4c1be669b"
      },
      "execution_count": 11,
      "outputs": [
        {
          "output_type": "display_data",
          "data": {
            "text/plain": [
              "Dropdown(description='Mês:', index=18, layout=Layout(width='50%'), options=('2022-01', '2022-02', '2022-03', '…"
            ],
            "application/vnd.jupyter.widget-view+json": {
              "version_major": 2,
              "version_minor": 0,
              "model_id": "22378bade98849559b89cd744833be4b"
            }
          },
          "metadata": {}
        },
        {
          "output_type": "stream",
          "name": "stderr",
          "text": [
            "<ipython-input-11-63e71e811dd2>:25: DeprecationWarning: The 'unary_union' attribute is deprecated, use the 'union_all()' method instead.\n",
            "  centro = gdf.geometry.unary_union.centroid\n"
          ]
        },
        {
          "output_type": "stream",
          "name": "stdout",
          "text": [
            "Mapa salvo em: /content/drive/MyDrive/heatmap_2023-07.html\n"
          ]
        }
      ]
    },
    {
      "cell_type": "markdown",
      "source": [
        "Ideia: Um controle dentro do próprio mapa HTML, como um dropdown embutido no canto superior esquerdo ou direito do mapa em que o usuário poderia interagir diretamente no mapa, sem depender da interface do Google Colab.\n",
        "\n",
        "❌ Por que isso não funciona direto com Folium:\n",
        "O folium gera mapas com base no Leaflet.js, mas não permite incluir interações JavaScript customizadas facilmente via Python. Ele é limitado a plugins prontos.\n",
        "\n",
        "Para esse tipo de controle embutido (como dropdown no mapa), você precisa de:\n",
        "\n",
        "🛠️ Opções para ter um seletor dentro do mapa\n",
        "🔹 1. HTML + Leaflet.js puro (JavaScript)\n",
        "Você cria um arquivo HTML com:\n",
        "\n",
        "Um <select> (dropdown) no canto do mapa\n",
        "\n",
        "Um script JS que troca a camada de calor conforme a seleção\n",
        "\n",
        "🔹 2. Dash + dash-leaflet\n",
        "Você cria um app Python com:\n",
        "\n",
        "Dropdown no layout (fora ou embutido no mapa)\n",
        "\n",
        "Muda dinamicamente o conteúdo do HeatMap\n",
        "\n",
        "🔹 3. Streamlit + folium + streamlit-folium (meio termo)\n",
        "Streamlit permite exibir um mapa e interagir com filtros de forma mais amigável que Colab.\n",
        "\n",
        "✅ Alternativa simples:\n",
        "Um arquivo HTML com:\n",
        "\n",
        "Múltiplas camadas de heatmap (uma por mês)\n",
        "\n",
        "Um controle de camadas (tipo checkbox ou dropdown) no canto do mapa para trocar de mês\n",
        "\n",
        "Isso funciona dentro do mapa, mesmo em um único HTML.\n",
        "\n"
      ],
      "metadata": {
        "id": "HP3lu1gy3uqG"
      }
    },
    {
      "cell_type": "markdown",
      "source": [
        "####Versão Mapa com seletor de mês embutido no mapa"
      ],
      "metadata": {
        "id": "F40UlohJ4Mm_"
      }
    },
    {
      "cell_type": "code",
      "source": [
        "import folium\n",
        "from folium.plugins import HeatMap\n",
        "from shapely.geometry import Point\n",
        "\n",
        "# Garante que a coluna de data e geometria estão corretas\n",
        "gdf = gdf.dropna(subset=['data_sinis', 'geometry'])\n",
        "gdf['ano_mes'] = gdf['data_sinis'].dt.to_period('M')\n",
        "meses_disponiveis = sorted(gdf['ano_mes'].unique().astype(str))\n",
        "\n",
        "# Centraliza o mapa no centroide dos dados\n",
        "centro = gdf.geometry.unary_union.centroid\n",
        "m = folium.Map(location=[centro.y, centro.x], zoom_start=12)\n",
        "\n",
        "# Gera uma camada de heatmap para cada mês\n",
        "for mes in meses_disponiveis:\n",
        "    grupo = gdf[gdf['ano_mes'].astype(str) == mes]\n",
        "    coords = [[geom.y, geom.x] for geom in grupo.geometry if isinstance(geom, Point)]\n",
        "\n",
        "    if coords:  # Só adiciona camada se houver pontos\n",
        "        layer = folium.FeatureGroup(name=mes, show=False)\n",
        "        HeatMap(\n",
        "            coords,\n",
        "            radius=15,\n",
        "            max_opacity=0.8,\n",
        "            use_local_extrema=True\n",
        "        ).add_to(layer)\n",
        "        layer.add_to(m)\n",
        "\n",
        "# Adiciona controle de camadas\n",
        "folium.LayerControl(collapsed=False).add_to(m)\n",
        "\n",
        "# Salva o HTML\n",
        "m.save('heatmap_por_mes_com_selector.html')\n"
      ],
      "metadata": {
        "colab": {
          "base_uri": "https://localhost:8080/"
        },
        "id": "57HOV6T04JkX",
        "outputId": "2c32b88c-80fb-475e-f629-82123516bbf1"
      },
      "execution_count": 13,
      "outputs": [
        {
          "output_type": "stream",
          "name": "stderr",
          "text": [
            "<ipython-input-13-41e5391d9fd7>:11: DeprecationWarning: The 'unary_union' attribute is deprecated, use the 'union_all()' method instead.\n",
            "  centro = gdf.geometry.unary_union.centroid\n"
          ]
        }
      ]
    },
    {
      "cell_type": "markdown",
      "source": [
        "📦 **Bloco Mapa de Calor com Seletor de Mês (manual)**\n",
        "\n",
        "\n",
        " 🧾 **Explicação: Por que não dá pra combinar os dois no Google Colab**\n",
        "\n",
        "❌ Limitações do Google Colab:\n",
        "\n",
        "* O Colab **não permite interações JavaScript diretamente embutidas** no mapa HTML com `folium`.\n",
        "* O controle `HeatMapWithTime` é **renderizado em HTML**, com JavaScript rodando no navegador. Já o dropdown com `ipywidgets` é **Python puro**, processado no backend do notebook.\n",
        "* Ou seja: **não é possível colocar os dois controles (barra temporal + dropdown) no mesmo mapa interativo diretamente pelo Folium no Colab**.\n",
        "\n",
        "✅ Como seria possível combinar os dois:\n",
        "\n",
        "Para ter **ambos os controles (barra + seletor)** no **mesmo mapa com calor**:\n",
        "\n",
        "* Você precisaria montar uma **aplicação em HTML/JavaScript** usando **Leaflet.js** e bibliotecas como:\n",
        "\n",
        "  * `leaflet-timeline-slider` ou `leaflet-daterangepicker`\n",
        "  * Controle de camadas e eventos personalizados com JS\n",
        "\n",
        "Ou então, criar uma aplicação interativa com:\n",
        "\n",
        "💡 Alternativa: `Dash + dash-leaflet`\n",
        "\n",
        "* Você cria um app web em Python.\n",
        "* Um `DatePickerRange` ou `Dropdown` permite selecionar meses.\n",
        "* Um controle com botão play/pause pode ser programado à parte.\n",
        "* Você renderiza heatmaps customizados com base na seleção.\n",
        "\n",
        "---\n",
        "\n",
        "✅ Em resumo:\n",
        "\n",
        "| Caminho                    | Dá pra fazer no Colab? | Permite os dois controles? | Complexidade |\n",
        "| -------------------------- | ---------------------- | -------------------------- | ------------ |\n",
        "| `folium + HeatMapWithTime` | ✅ Sim                  | ❌ Só barra temporal        | Baixa        |\n",
        "| `folium + widgets`         | ✅ Sim                  | ❌ Só seletor manual        | Baixa        |\n",
        "| `Dash + dash-leaflet`      | ❌ Não (só local/web)   | ✅ Sim, ambos               | Alta         |\n",
        "| `Leaflet.js + JS`          | ❌ Não                  | ✅ Sim, ambos               | Alta         |\n",
        "\n",
        "\n"
      ],
      "metadata": {
        "id": "TsbX888J2p5l"
      }
    }
  ]
}